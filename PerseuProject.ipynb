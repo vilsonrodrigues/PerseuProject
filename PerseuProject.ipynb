{
  "nbformat": 4,
  "nbformat_minor": 0,
  "metadata": {
    "colab": {
      "name": "PerseuProject.ipynb",
      "provenance": [],
      "collapsed_sections": []
    },
    "kernelspec": {
      "name": "python3",
      "display_name": "Python 3"
    }
  },
  "cells": [
    {
      "cell_type": "markdown",
      "metadata": {
        "id": "WIzyiplZOsVu",
        "colab_type": "text"
      },
      "source": [
        "**Projeto Perseu - análise de solicitação de matricula**"
      ]
    },
    {
      "cell_type": "markdown",
      "metadata": {
        "id": "ZyPzWHTDOxwH",
        "colab_type": "text"
      },
      "source": [
        "- Media de todas as disciplinas\n",
        "\n",
        "- Maior nota\n",
        "\n",
        "- Menor nota\n",
        "\n",
        "- Quantidade de disciplinas\n",
        "\n",
        "- Carga horaria total\n",
        "\n",
        "- Quantidade de aprovação e reprovação\n",
        "\n",
        "- Quantos anos entrou na ufrn\n",
        "\n"
      ]
    },
    {
      "cell_type": "markdown",
      "metadata": {
        "id": "tWSiHGNmfPtL",
        "colab_type": "text"
      },
      "source": [
        "Importando bibliotecas\n"
      ]
    },
    {
      "cell_type": "code",
      "metadata": {
        "id": "1p9y3tv3fS5g",
        "colab_type": "code",
        "colab": {}
      },
      "source": [
        "import numpy as np\n",
        "import pandas as pd\n",
        "import matplotlib.pyplot as plt\n",
        "import seaborn as sns"
      ],
      "execution_count": 0,
      "outputs": []
    },
    {
      "cell_type": "markdown",
      "metadata": {
        "id": "_j-RDRqkfcTb",
        "colab_type": "text"
      },
      "source": [
        "Leitura de CSV"
      ]
    },
    {
      "cell_type": "code",
      "metadata": {
        "id": "YKVAbHoHffPz",
        "colab_type": "code",
        "colab": {}
      },
      "source": [
        "table = pd.read_csv(\"https://raw.githubusercontent.com/repitta/CienciaDeDadosEducacionais/master/dadosUFRN/dados%20tratados%20ufrn/disciplinasECT201520191.csv\")\n",
        "table.drop(columns=[\"Unnamed: 0\"], inplace=True)"
      ],
      "execution_count": 0,
      "outputs": []
    },
    {
      "cell_type": "code",
      "metadata": {
        "id": "hgMPugYrgd4u",
        "colab_type": "code",
        "outputId": "f68dbb90-9f44-4a83-ae23-77d8fc739c22",
        "colab": {
          "base_uri": "https://localhost:8080/",
          "height": 348
        }
      },
      "source": [
        "table.sample(10)"
      ],
      "execution_count": 0,
      "outputs": [
        {
          "output_type": "execute_result",
          "data": {
            "text/html": [
              "<div>\n",
              "<style scoped>\n",
              "    .dataframe tbody tr th:only-of-type {\n",
              "        vertical-align: middle;\n",
              "    }\n",
              "\n",
              "    .dataframe tbody tr th {\n",
              "        vertical-align: top;\n",
              "    }\n",
              "\n",
              "    .dataframe thead th {\n",
              "        text-align: right;\n",
              "    }\n",
              "</style>\n",
              "<table border=\"1\" class=\"dataframe\">\n",
              "  <thead>\n",
              "    <tr style=\"text-align: right;\">\n",
              "      <th></th>\n",
              "      <th>matricula</th>\n",
              "      <th>media</th>\n",
              "      <th>min</th>\n",
              "      <th>max</th>\n",
              "      <th>QuantDisciCursadas</th>\n",
              "      <th>quantAprovado</th>\n",
              "      <th>quantReprovado</th>\n",
              "      <th>carga_total</th>\n",
              "      <th>disciplina</th>\n",
              "      <th>situacao</th>\n",
              "      <th>carga_total_atual</th>\n",
              "      <th>QuantDisciAtual</th>\n",
              "      <th>AnosMatriculado</th>\n",
              "      <th>vezesReprovado</th>\n",
              "    </tr>\n",
              "  </thead>\n",
              "  <tbody>\n",
              "    <tr>\n",
              "      <th>42044</th>\n",
              "      <td>20160142835</td>\n",
              "      <td>3.220000</td>\n",
              "      <td>0.6</td>\n",
              "      <td>6.3</td>\n",
              "      <td>5</td>\n",
              "      <td>2</td>\n",
              "      <td>3</td>\n",
              "      <td>330</td>\n",
              "      <td>ECT2412</td>\n",
              "      <td>REPROVADO</td>\n",
              "      <td>330</td>\n",
              "      <td>5</td>\n",
              "      <td>2</td>\n",
              "      <td>0</td>\n",
              "    </tr>\n",
              "    <tr>\n",
              "      <th>24369</th>\n",
              "      <td>2015091678</td>\n",
              "      <td>4.314286</td>\n",
              "      <td>1.5</td>\n",
              "      <td>6.4</td>\n",
              "      <td>7</td>\n",
              "      <td>4</td>\n",
              "      <td>3</td>\n",
              "      <td>375</td>\n",
              "      <td>ECT2411</td>\n",
              "      <td>APROVADO</td>\n",
              "      <td>315</td>\n",
              "      <td>5</td>\n",
              "      <td>2</td>\n",
              "      <td>0</td>\n",
              "    </tr>\n",
              "    <tr>\n",
              "      <th>34185</th>\n",
              "      <td>20170032176</td>\n",
              "      <td>4.650000</td>\n",
              "      <td>1.2</td>\n",
              "      <td>7.0</td>\n",
              "      <td>6</td>\n",
              "      <td>4</td>\n",
              "      <td>2</td>\n",
              "      <td>330</td>\n",
              "      <td>ECT2306</td>\n",
              "      <td>APROVADO</td>\n",
              "      <td>345</td>\n",
              "      <td>7</td>\n",
              "      <td>0</td>\n",
              "      <td>0</td>\n",
              "    </tr>\n",
              "    <tr>\n",
              "      <th>36812</th>\n",
              "      <td>20150126533</td>\n",
              "      <td>4.020000</td>\n",
              "      <td>1.3</td>\n",
              "      <td>5.5</td>\n",
              "      <td>5</td>\n",
              "      <td>3</td>\n",
              "      <td>2</td>\n",
              "      <td>330</td>\n",
              "      <td>ECT2401</td>\n",
              "      <td>REPROVADO</td>\n",
              "      <td>315</td>\n",
              "      <td>5</td>\n",
              "      <td>3</td>\n",
              "      <td>0</td>\n",
              "    </tr>\n",
              "    <tr>\n",
              "      <th>45740</th>\n",
              "      <td>20180035190</td>\n",
              "      <td>4.760000</td>\n",
              "      <td>2.1</td>\n",
              "      <td>5.7</td>\n",
              "      <td>5</td>\n",
              "      <td>4</td>\n",
              "      <td>1</td>\n",
              "      <td>255</td>\n",
              "      <td>ECT2305</td>\n",
              "      <td>APROVADO</td>\n",
              "      <td>255</td>\n",
              "      <td>5</td>\n",
              "      <td>0</td>\n",
              "      <td>0</td>\n",
              "    </tr>\n",
              "    <tr>\n",
              "      <th>48965</th>\n",
              "      <td>20170045218</td>\n",
              "      <td>6.883333</td>\n",
              "      <td>6.2</td>\n",
              "      <td>7.7</td>\n",
              "      <td>6</td>\n",
              "      <td>6</td>\n",
              "      <td>0</td>\n",
              "      <td>300</td>\n",
              "      <td>ECT2402</td>\n",
              "      <td>REPROVADO</td>\n",
              "      <td>270</td>\n",
              "      <td>5</td>\n",
              "      <td>2</td>\n",
              "      <td>0</td>\n",
              "    </tr>\n",
              "    <tr>\n",
              "      <th>1966</th>\n",
              "      <td>2013073160</td>\n",
              "      <td>7.166667</td>\n",
              "      <td>5.5</td>\n",
              "      <td>9.8</td>\n",
              "      <td>6</td>\n",
              "      <td>6</td>\n",
              "      <td>0</td>\n",
              "      <td>300</td>\n",
              "      <td>ECT2413</td>\n",
              "      <td>APROVADO</td>\n",
              "      <td>300</td>\n",
              "      <td>5</td>\n",
              "      <td>2</td>\n",
              "      <td>1</td>\n",
              "    </tr>\n",
              "    <tr>\n",
              "      <th>12049</th>\n",
              "      <td>2015017053</td>\n",
              "      <td>7.657143</td>\n",
              "      <td>6.1</td>\n",
              "      <td>8.8</td>\n",
              "      <td>7</td>\n",
              "      <td>7</td>\n",
              "      <td>0</td>\n",
              "      <td>345</td>\n",
              "      <td>ECT2303</td>\n",
              "      <td>APROVADO</td>\n",
              "      <td>360</td>\n",
              "      <td>6</td>\n",
              "      <td>1</td>\n",
              "      <td>1</td>\n",
              "    </tr>\n",
              "    <tr>\n",
              "      <th>8764</th>\n",
              "      <td>2013090500</td>\n",
              "      <td>6.540000</td>\n",
              "      <td>5.2</td>\n",
              "      <td>9.3</td>\n",
              "      <td>5</td>\n",
              "      <td>5</td>\n",
              "      <td>0</td>\n",
              "      <td>330</td>\n",
              "      <td>ECT2401</td>\n",
              "      <td>APROVADO</td>\n",
              "      <td>375</td>\n",
              "      <td>6</td>\n",
              "      <td>3</td>\n",
              "      <td>1</td>\n",
              "    </tr>\n",
              "    <tr>\n",
              "      <th>49339</th>\n",
              "      <td>20170117907</td>\n",
              "      <td>6.633333</td>\n",
              "      <td>5.7</td>\n",
              "      <td>8.3</td>\n",
              "      <td>6</td>\n",
              "      <td>6</td>\n",
              "      <td>0</td>\n",
              "      <td>330</td>\n",
              "      <td>ECT2401</td>\n",
              "      <td>APROVADO</td>\n",
              "      <td>345</td>\n",
              "      <td>6</td>\n",
              "      <td>2</td>\n",
              "      <td>0</td>\n",
              "    </tr>\n",
              "  </tbody>\n",
              "</table>\n",
              "</div>"
            ],
            "text/plain": [
              "         matricula     media  ...  AnosMatriculado  vezesReprovado\n",
              "42044  20160142835  3.220000  ...                2               0\n",
              "24369   2015091678  4.314286  ...                2               0\n",
              "34185  20170032176  4.650000  ...                0               0\n",
              "36812  20150126533  4.020000  ...                3               0\n",
              "45740  20180035190  4.760000  ...                0               0\n",
              "48965  20170045218  6.883333  ...                2               0\n",
              "1966    2013073160  7.166667  ...                2               1\n",
              "12049   2015017053  7.657143  ...                1               1\n",
              "8764    2013090500  6.540000  ...                3               1\n",
              "49339  20170117907  6.633333  ...                2               0\n",
              "\n",
              "[10 rows x 14 columns]"
            ]
          },
          "metadata": {
            "tags": []
          },
          "execution_count": 3
        }
      ]
    },
    {
      "cell_type": "markdown",
      "metadata": {
        "id": "ibHQU5vc2Bl9",
        "colab_type": "text"
      },
      "source": [
        "Quantos alunos aprovados e reprovados"
      ]
    },
    {
      "cell_type": "code",
      "metadata": {
        "id": "97uzESBl6h3s",
        "colab_type": "code",
        "colab": {}
      },
      "source": [
        "table.situacao.value_counts()"
      ],
      "execution_count": 0,
      "outputs": []
    },
    {
      "cell_type": "markdown",
      "metadata": {
        "id": "LpvX4wj72IAT",
        "colab_type": "text"
      },
      "source": [
        "Percentual de alunos que reprovaram "
      ]
    },
    {
      "cell_type": "code",
      "metadata": {
        "id": "EnxvfRjB6zoF",
        "colab_type": "code",
        "colab": {}
      },
      "source": [
        "7806*100/24949"
      ],
      "execution_count": 0,
      "outputs": []
    },
    {
      "cell_type": "code",
      "metadata": {
        "id": "PiDlQYeCgt8y",
        "colab_type": "code",
        "outputId": "928f5534-dbe3-41b3-8cae-a3cc00bbfebc",
        "colab": {
          "base_uri": "https://localhost:8080/",
          "height": 319
        }
      },
      "source": [
        "table.info()"
      ],
      "execution_count": 0,
      "outputs": [
        {
          "output_type": "stream",
          "text": [
            "<class 'pandas.core.frame.DataFrame'>\n",
            "RangeIndex: 24949 entries, 0 to 24948\n",
            "Data columns (total 13 columns):\n",
            "matricula             24949 non-null int64\n",
            "media                 24949 non-null float64\n",
            "min                   24949 non-null float64\n",
            "max                   24949 non-null float64\n",
            "QuantDisciCursadas    24949 non-null int64\n",
            "quantAprovado         24949 non-null int64\n",
            "quantReprovado        24949 non-null int64\n",
            "carga_total           24949 non-null int64\n",
            "anoAnterior           24949 non-null float64\n",
            "AnoIngresso           24949 non-null float64\n",
            "AnosMatriculado       24949 non-null int64\n",
            "disciplina            24949 non-null object\n",
            "situacao              24949 non-null object\n",
            "dtypes: float64(5), int64(6), object(2)\n",
            "memory usage: 2.5+ MB\n"
          ],
          "name": "stdout"
        }
      ]
    },
    {
      "cell_type": "markdown",
      "metadata": {
        "id": "5bY2cdVe2taR",
        "colab_type": "text"
      },
      "source": [
        "Estatísticas dos aprovados"
      ]
    },
    {
      "cell_type": "code",
      "metadata": {
        "id": "xTRNnJIM7j2r",
        "colab_type": "code",
        "colab": {}
      },
      "source": [
        "table.loc[table[\"situacao\"]==\"APROVADO\"].describe()"
      ],
      "execution_count": 0,
      "outputs": []
    },
    {
      "cell_type": "markdown",
      "metadata": {
        "id": "6bBFDhCx2ziU",
        "colab_type": "text"
      },
      "source": [
        "Estatísticas dos reprovados"
      ]
    },
    {
      "cell_type": "code",
      "metadata": {
        "id": "wNSW5WK1917w",
        "colab_type": "code",
        "colab": {}
      },
      "source": [
        "table.loc[table[\"situacao\"]==\"REPROVADO\"].describe()"
      ],
      "execution_count": 0,
      "outputs": []
    },
    {
      "cell_type": "markdown",
      "metadata": {
        "id": "JIwREWl-3Sww",
        "colab_type": "text"
      },
      "source": [
        "Aluno que passou com média 10 no semestre anterior e reprovou em uma matéria no atual"
      ]
    },
    {
      "cell_type": "code",
      "metadata": {
        "id": "ZoFyKozR_Nr1",
        "colab_type": "code",
        "colab": {}
      },
      "source": [
        "table.loc[(table[\"situacao\"]==\"REPROVADO\") & ( table[\"min\"]==10)]"
      ],
      "execution_count": 0,
      "outputs": []
    },
    {
      "cell_type": "markdown",
      "metadata": {
        "id": "wESooCbq3h1Z",
        "colab_type": "text"
      },
      "source": [
        "Selecionando apenas quem cursou Lógica de Programação no semestre posterior (atual)"
      ]
    },
    {
      "cell_type": "code",
      "metadata": {
        "id": "7ZSTPHeOAPgd",
        "colab_type": "code",
        "colab": {}
      },
      "source": [
        "tableLOP = table.loc[(table[\"disciplina\"]==\"ECT2203\")]"
      ],
      "execution_count": 0,
      "outputs": []
    },
    {
      "cell_type": "markdown",
      "metadata": {
        "id": "BW7Kd7Zd3qxn",
        "colab_type": "text"
      },
      "source": [
        "Aprovados e reprovados em LOP"
      ]
    },
    {
      "cell_type": "code",
      "metadata": {
        "id": "QUr3a7PYBn6Q",
        "colab_type": "code",
        "colab": {}
      },
      "source": [
        "tableLOP.situacao.value_counts()"
      ],
      "execution_count": 0,
      "outputs": []
    },
    {
      "cell_type": "markdown",
      "metadata": {
        "id": "LTiqYlNx3yGD",
        "colab_type": "text"
      },
      "source": [
        "Porcentagem de reprovados"
      ]
    },
    {
      "cell_type": "code",
      "metadata": {
        "id": "qwhhrJCYB_KZ",
        "colab_type": "code",
        "colab": {}
      },
      "source": [
        "561*100/(990+561)"
      ],
      "execution_count": 0,
      "outputs": []
    },
    {
      "cell_type": "markdown",
      "metadata": {
        "id": "i2Rmhf3w35aG",
        "colab_type": "text"
      },
      "source": [
        "Descrição dos aprovados em LOP"
      ]
    },
    {
      "cell_type": "code",
      "metadata": {
        "id": "SNuAAjjxBZ1K",
        "colab_type": "code",
        "colab": {}
      },
      "source": [
        "tableLOP.loc[tableLOP[\"situacao\"]==\"APROVADO\"].describe()"
      ],
      "execution_count": 0,
      "outputs": []
    },
    {
      "cell_type": "markdown",
      "metadata": {
        "id": "0IJSzF9b4B3k",
        "colab_type": "text"
      },
      "source": [
        "Descrição dos reprovados em LOP"
      ]
    },
    {
      "cell_type": "code",
      "metadata": {
        "id": "7lw3OgwPC2nS",
        "colab_type": "code",
        "colab": {}
      },
      "source": [
        "tableLOP.loc[tableLOP[\"situacao\"]==\"REPROVADO\"].describe()"
      ],
      "execution_count": 0,
      "outputs": []
    },
    {
      "cell_type": "markdown",
      "metadata": {
        "id": "qbquSA1J4MG1",
        "colab_type": "text"
      },
      "source": [
        "Criando um novo campo númerico que represente aprovados e reprovados"
      ]
    },
    {
      "cell_type": "code",
      "metadata": {
        "id": "VRJvdt2IpGlI",
        "colab_type": "code",
        "colab": {}
      },
      "source": [
        "table[\"situ\"] = 1\n",
        "table.loc[table[\"situacao\"].str.contains(\"RE\"),\"situ\"]=0"
      ],
      "execution_count": 0,
      "outputs": []
    },
    {
      "cell_type": "code",
      "metadata": {
        "id": "EeMjW4HLsaE5",
        "colab_type": "code",
        "outputId": "aa6ce48b-2a6c-4d98-e9f6-69ec86ae1a0b",
        "colab": {
          "base_uri": "https://localhost:8080/",
          "height": 34
        }
      },
      "source": [
        "table[\"situ\"].unique()"
      ],
      "execution_count": 0,
      "outputs": [
        {
          "output_type": "execute_result",
          "data": {
            "text/plain": [
              "array([1, 0])"
            ]
          },
          "metadata": {
            "tags": []
          },
          "execution_count": 35
        }
      ]
    },
    {
      "cell_type": "code",
      "metadata": {
        "id": "icMN8j6csMeB",
        "colab_type": "code",
        "outputId": "3f5d3166-3af8-4735-de8b-09d394c653e4",
        "colab": {
          "base_uri": "https://localhost:8080/",
          "height": 330
        }
      },
      "source": [
        "sns.set()\n",
        "disc_pivot = table.pivot_table(index=\"disciplina\",values=\"situ\")\n",
        "disc_pivot.plot.bar()\n",
        "plt.show()"
      ],
      "execution_count": 0,
      "outputs": [
        {
          "output_type": "display_data",
          "data": {
            "image/png": "[encoded data removed]",
            "text/plain": [
              "<Figure size 432x288 with 1 Axes>"
            ]
          },
          "metadata": {
            "tags": []
          }
        }
      ]
    },
    {
      "cell_type": "code",
      "metadata": {
        "id": "zZn18HXFg1if",
        "colab_type": "code",
        "colab": {}
      },
      "source": [
        "disciplina_pivot = table.pivot_table(index=\"disciplina\",values=\"situacao\")\n",
        "disciplina_pivot.plot.bar()\n",
        "plt.show()"
      ],
      "execution_count": 0,
      "outputs": []
    },
    {
      "cell_type": "code",
      "metadata": {
        "id": "1ZWqMGqsnaV7",
        "colab_type": "code",
        "colab": {}
      },
      "source": [
        "x = sns.FacetGrid(table,col=\"disciplina\",size=4,aspect=1.1,col_wrap=4)\n",
        "x = (x.map(plt.bar,\"situacao\",\"situ\").add_legend())"
      ],
      "execution_count": 0,
      "outputs": []
    },
    {
      "cell_type": "code",
      "metadata": {
        "id": "d_Wy2_xyoe29",
        "colab_type": "code",
        "colab": {}
      },
      "source": [
        "x = sns.FacetGrid(table,col=\"disciplina\",margin_titles=False,size=4,aspect=1.1,col_wrap=4)\n",
        "x = (x.map(plt.hist,\"situacao\",color=\"orange\").add_legend())"
      ],
      "execution_count": 0,
      "outputs": []
    },
    {
      "cell_type": "markdown",
      "metadata": {
        "id": "lLLhf2E9EyLQ",
        "colab_type": "text"
      },
      "source": [
        "#SVM"
      ]
    },
    {
      "cell_type": "code",
      "metadata": {
        "id": "VkL03wmGFKE8",
        "colab_type": "code",
        "colab": {}
      },
      "source": [
        "tableLOP.head(1)"
      ],
      "execution_count": 0,
      "outputs": []
    },
    {
      "cell_type": "markdown",
      "metadata": {
        "id": "3yYIFcer4T7J",
        "colab_type": "text"
      },
      "source": [
        "Correlações"
      ]
    },
    {
      "cell_type": "code",
      "metadata": {
        "id": "l6hJB8DNOtqq",
        "colab_type": "code",
        "colab": {}
      },
      "source": [
        "tableLOP.corr()"
      ],
      "execution_count": 0,
      "outputs": []
    },
    {
      "cell_type": "code",
      "metadata": {
        "id": "FvrNeoXDEz-j",
        "colab_type": "code",
        "colab": {}
      },
      "source": [
        "X = tableLOP.iloc[:,[1,2,3,4,5,6,7,10]].values #resto dos dados\n",
        "y = tableLOP.iloc[:,-1].values#alvo"
      ],
      "execution_count": 0,
      "outputs": []
    },
    {
      "cell_type": "markdown",
      "metadata": {
        "id": "cRh_jH6H4aKu",
        "colab_type": "text"
      },
      "source": [
        "Separando treino e teste"
      ]
    },
    {
      "cell_type": "code",
      "metadata": {
        "id": "5_b0TEFjE4MG",
        "colab_type": "code",
        "colab": {}
      },
      "source": [
        "from sklearn.model_selection import train_test_split\n",
        "X_train, X_test, y_train, y_test = train_test_split(X, y, test_size = 0.30, random_state = 11)"
      ],
      "execution_count": 0,
      "outputs": []
    },
    {
      "cell_type": "markdown",
      "metadata": {
        "id": "xl69pe-r4fQy",
        "colab_type": "text"
      },
      "source": [
        "Normalizando"
      ]
    },
    {
      "cell_type": "code",
      "metadata": {
        "id": "XnBzLAKIE4v-",
        "colab_type": "code",
        "colab": {}
      },
      "source": [
        "sklearn.preprocessing import StandardScaler\n",
        "sc = StandardScaler()\n",
        "X_train = sc.fit_transform(X_train)\n",
        "X_test = sc.transform(X_test)"
      ],
      "execution_count": 0,
      "outputs": []
    },
    {
      "cell_type": "markdown",
      "metadata": {
        "id": "rsuGOBOL4kXF",
        "colab_type": "text"
      },
      "source": [
        "Modelando a SVM"
      ]
    },
    {
      "cell_type": "code",
      "metadata": {
        "id": "-B_y0cs0E9NL",
        "colab_type": "code",
        "colab": {}
      },
      "source": [
        "# Fitting SVM to the Training set\n",
        "from sklearn.svm import SVC\n",
        "from sklearn.pipeline import Pipeline\n",
        "\n",
        "#classifier = SVC(kernel = 'linear', random_state = 0)\n",
        "classifier = Pipeline((\n",
        "                      (\"scaler\", StandardScaler()),\n",
        "                       (\"svm_clf\", SVC(kernel=\"rbf\", gamma=0.5, C=0.9))\n",
        "))\n",
        "classifier.fit(X_train, y_train)"
      ],
      "execution_count": 0,
      "outputs": []
    },
    {
      "cell_type": "markdown",
      "metadata": {
        "id": "sEvtchnQ4oWO",
        "colab_type": "text"
      },
      "source": [
        "Predizendo"
      ]
    },
    {
      "cell_type": "code",
      "metadata": {
        "id": "2SbwI1HkE_Z5",
        "colab_type": "code",
        "colab": {}
      },
      "source": [
        "# Predicting the Test set results\n",
        "y_pred = classifier.predict(X_test)\n",
        "\n",
        "print(y_test[0:75])\n",
        "print(y_pred[0:75])"
      ],
      "execution_count": 0,
      "outputs": []
    },
    {
      "cell_type": "markdown",
      "metadata": {
        "id": "i2PRHwyf4tAF",
        "colab_type": "text"
      },
      "source": [
        "Matriz de confusão"
      ]
    },
    {
      "cell_type": "code",
      "metadata": {
        "id": "RWntQ0iMFB7q",
        "colab_type": "code",
        "colab": {}
      },
      "source": [
        "from sklearn.metrics import confusion_matrix\n",
        "cm = confusion_matrix(y_test, y_pred)\n",
        "\n",
        "cm"
      ],
      "execution_count": 0,
      "outputs": []
    },
    {
      "cell_type": "markdown",
      "metadata": {
        "id": "M-pA6jQG4whf",
        "colab_type": "text"
      },
      "source": [
        "Acurácia do modelo"
      ]
    },
    {
      "cell_type": "code",
      "metadata": {
        "id": "wADBfoMvLHVO",
        "colab_type": "code",
        "colab": {}
      },
      "source": [
        "from sklearn.metrics import accuracy_score\n",
        "print(\"LinearSVC accuracy : \",accuracy_score(y_test, y_pred, normalize = True))"
      ],
      "execution_count": 0,
      "outputs": []
    },
    {
      "cell_type": "code",
      "metadata": {
        "id": "s9k1J4QHKEOF",
        "colab_type": "code",
        "colab": {}
      },
      "source": [
        "classifier.accuracy_score(y_test, y_pred)"
      ],
      "execution_count": 0,
      "outputs": []
    },
    {
      "cell_type": "code",
      "metadata": {
        "id": "vzv1AaV3FEAL",
        "colab_type": "code",
        "colab": {}
      },
      "source": [
        "# Visualising the Training set results\n",
        "from matplotlib.colors import ListedColormap\n",
        "X_set, y_set = X_train, y_train\n",
        "X1, X2 = np.meshgrid(np.arange(start = X_set[:, 0].min() - 1, stop = X_set[:, 0].max() + 1, step = 0.01),\n",
        "                     np.arange(start = X_set[:, 1].min() - 1, stop = X_set[:, 1].max() + 1, step = 0.01))\n",
        "plt.contourf(X1, X2, classifier.predict(np.array([X1.ravel(), X2.ravel()]).T).reshape(X1.shape),\n",
        "             alpha = 0.75, cmap = ListedColormap(('blue', 'green')))\n",
        "plt.xlim(X1.min(), X1.max())\n",
        "plt.ylim(X2.min(), X2.max())\n",
        "for i, j in enumerate(np.unique(y_set)):\n",
        "    plt.scatter(X_set[y_set == j, 0], X_set[y_set == j, 1],\n",
        "                c = ListedColormap(('red', 'green'))(i), label = j)\n",
        "plt.title('SVM (Training set)')\n",
        "#plt.xlabel('Age')\n",
        "#plt.ylabel('Estimated Salary')\n",
        "plt.legend()\n",
        "plt.show()"
      ],
      "execution_count": 0,
      "outputs": []
    },
    {
      "cell_type": "code",
      "metadata": {
        "id": "ghS6gxSfNAXx",
        "colab_type": "code",
        "colab": {}
      },
      "source": [
        "from sklearn.naive_bayes import GaussianNB\n",
        "from sklearn.metrics import accuracy_score\n",
        "#create an object of the type GaussianNB\n",
        "gnb = GaussianNB()\n",
        "#train the algorithm on training data and predict using the testing data\n",
        "pred = gnb.fit(X_train, y_train).predict(X_test)\n",
        "#print(pred.tolist())\n",
        "#print the accuracy score of the model\n",
        "print(\"Naive-Bayes accuracy : \",accuracy_score(y_test, pred, normalize = True))"
      ],
      "execution_count": 0,
      "outputs": []
    },
    {
      "cell_type": "code",
      "metadata": {
        "id": "iQTLvq4_OVYd",
        "colab_type": "code",
        "colab": {}
      },
      "source": [
        "cm = confusion_matrix(y_test, y_pred)\n",
        "cm"
      ],
      "execution_count": 0,
      "outputs": []
    },
    {
      "cell_type": "code",
      "metadata": {
        "id": "OQ0XULwLN0Vr",
        "colab_type": "code",
        "outputId": "b36992d8-989b-4479-93e4-33540d26eba5",
        "colab": {
          "base_uri": "https://localhost:8080/",
          "height": 401
        }
      },
      "source": [
        "from yellowbrick.classifier import ClassificationReport\n",
        "# Instantiate the classification model and visualizer\n",
        "visualizer = ClassificationReport(gnb, classes=[\"REPROVADO\", \"APROVADO\"])\n",
        "visualizer.fit(X_train, y_train) # Fit the training data to the visualizer\n",
        "visualizer.score(X_test, y_test) # Evaluate the model on the test data\n",
        "g = visualizer.poof() # Draw/show/poof the data"
      ],
      "execution_count": 0,
      "outputs": [
        {
          "output_type": "display_data",
          "data": {
            "image/png": "[encoded data removed]",
            "text/plain": [
              "<Figure size 576x396 with 2 Axes>"
            ]
          },
          "metadata": {
            "tags": []
          }
        }
      ]
    }
  ]
}