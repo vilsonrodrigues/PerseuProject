{
  "nbformat": 4,
  "nbformat_minor": 0,
  "metadata": {
    "colab": {
      "name": "Montando a tabela com os arquivos do sigaa.ipynb",
      "provenance": [],
      "collapsed_sections": [],
      "include_colab_link": true
    },
    "kernelspec": {
      "name": "python3",
      "display_name": "Python 3"
    }
  },
  "cells": [
    {
      "cell_type": "markdown",
      "metadata": {
        "id": "view-in-github",
        "colab_type": "text"
      },
      "source": [
        "<a href=\"https://colab.research.google.com/github/vilsonrodrigues/PerseuProject/blob/master/Montando_a_tabela_com_os_arquivos_do_sigaa.ipynb\" target=\"_parent\"><img src=\"https://colab.research.google.com/assets/colab-badge.svg\" alt=\"Open In Colab\"/></a>"
      ]
    },
    {
      "cell_type": "markdown",
      "metadata": {
        "id": "JPFTddWpDMFW",
        "colab_type": "text"
      },
      "source": [
        "# Pré-processamento"
      ]
    },
    {
      "cell_type": "markdown",
      "metadata": {
        "id": "rx9Nf_vG7ZFu",
        "colab_type": "text"
      },
      "source": [
        "Importando bibliotecas"
      ]
    },
    {
      "cell_type": "code",
      "metadata": {
        "id": "fk7U05-uf72Q",
        "colab_type": "code",
        "colab": {}
      },
      "source": [
        "import pandas as pd\n",
        "import numpy as np\n",
        "from datetime import datetime"
      ],
      "execution_count": 0,
      "outputs": []
    },
    {
      "cell_type": "markdown",
      "metadata": {
        "id": "akV3jkQN7e0J",
        "colab_type": "text"
      },
      "source": [
        "Lendo as url's das notas"
      ]
    },
    {
      "cell_type": "code",
      "metadata": {
        "id": "FkAvW9zOgFJI",
        "colab_type": "code",
        "colab": {}
      },
      "source": [
        "notas_url = [\n",
        "             \"https://raw.githubusercontent.com/repitta/CienciaDeDadosEducacionais/master/dadosUFRN/notas_discentes_2015.1.csv\",\n",
        "             \"https://raw.githubusercontent.com/repitta/CienciaDeDadosEducacionais/master/dadosUFRN/notas_discentes_2015.2.csv\",\n",
        "             \"https://raw.githubusercontent.com/repitta/CienciaDeDadosEducacionais/master/dadosUFRN/notas_discentes_2016.1.csv\",\n",
        "             \"https://raw.githubusercontent.com/repitta/CienciaDeDadosEducacionais/master/dadosUFRN/notas_discentes_2016.2.csv\",\n",
        "             \"https://raw.githubusercontent.com/repitta/CienciaDeDadosEducacionais/master/dadosUFRN/notas_discentes_2017.1.csv\",\n",
        "             \"https://raw.githubusercontent.com/repitta/CienciaDeDadosEducacionais/master/dadosUFRN/notas_discentes_2017.2.csv\",\n",
        "             \"https://raw.githubusercontent.com/repitta/CienciaDeDadosEducacionais/master/dadosUFRN/notas_discentes_2018.1.csv\",\n",
        "             \"https://raw.githubusercontent.com/repitta/CienciaDeDadosEducacionais/master/dadosUFRN/notas_discentes_2018.2.csv\",\n",
        "             \"https://raw.githubusercontent.com/repitta/CienciaDeDadosEducacionais/master/dadosUFRN/notas_discentes_2019.1.csv\",\n",
        "             \"https://raw.githubusercontent.com/repitta/CienciaDeDadosEducacionais/master/dadosUFRN/notas_discentes_2019.2.csv\"\n",
        "            ]\n",
        "carga_horaria = \"http://dados.ufrn.br/dataset/3fea67e8-6916-4ed0-aaa6-9a8ca06a9bdc/resource/9a3521d2-4bc5-4fda-93f0-f701c8a20727/download/componentes-curriculares-presenciais.csv\""
      ],
      "execution_count": 0,
      "outputs": []
    },
    {
      "cell_type": "markdown",
      "metadata": {
        "id": "sHOn-kE57l7c",
        "colab_type": "text"
      },
      "source": [
        "Lendo como CSV"
      ]
    },
    {
      "cell_type": "code",
      "metadata": {
        "id": "cMHVqrmxlsyy",
        "colab_type": "code",
        "colab": {}
      },
      "source": [
        "col = [\"periodo\",\"codigo\",\"nome\",\"turma\",\"siape\",\"horario\",\"matricula\",\"nota\",\"situacao\"]\n",
        "notas2015_1 = pd.read_csv(notas_url[0], sep=';', encoding = \"ISO-8859-1\", skiprows = 7, names=col, index_col=False)\n",
        "notas2015_2 = pd.read_csv(notas_url[1], sep=';', encoding = \"ISO-8859-1\", skiprows = 7, names=col, index_col=False)\n",
        "notas2016_1 = pd.read_csv(notas_url[2], sep=';', encoding = \"ISO-8859-1\", skiprows = 7, names=col, index_col=False)\n",
        "notas2016_2 = pd.read_csv(notas_url[3], sep=';', encoding = \"ISO-8859-1\", skiprows = 7, names=col, index_col=False)\n",
        "notas2017_1 = pd.read_csv(notas_url[4], sep=';', encoding = \"ISO-8859-1\", skiprows = 7, names=col, index_col=False)\n",
        "notas2017_2 = pd.read_csv(notas_url[5], sep=';', encoding = \"ISO-8859-1\", skiprows = 7, names=col, index_col=False)\n",
        "notas2018_1 = pd.read_csv(notas_url[6], sep=';', encoding = \"ISO-8859-1\", skiprows = 7, names=col, index_col=False)\n",
        "notas2018_2 = pd.read_csv(notas_url[7], sep=';', encoding = \"ISO-8859-1\", skiprows = 7, names=col, index_col=False)\n",
        "notas2019_1 = pd.read_csv(notas_url[8], sep=';', encoding = \"ISO-8859-1\", skiprows = 7, names=col, index_col=False)\n",
        "#notas2019_2 = pd.read_csv(notas_url[9], sep=';', encoding = \"ISO-8859-1\", skiprows = 7, names=col, index_col=False)\n",
        "\n",
        "carga = pd.read_csv(carga_horaria,sep=\";\")\n",
        "carga = carga[[\"codigo\",\"ch_total\"]]"
      ],
      "execution_count": 0,
      "outputs": []
    },
    {
      "cell_type": "code",
      "metadata": {
        "id": "rXvmrjgv5c0d",
        "colab_type": "code",
        "outputId": "3efc4f46-d533-4b24-fdf5-290b2fd7c992",
        "colab": {
          "base_uri": "https://localhost:8080/",
          "height": 348
        }
      },
      "source": [
        "notas2015_1.sample(10)"
      ],
      "execution_count": 0,
      "outputs": [
        {
          "output_type": "execute_result",
          "data": {
            "text/html": [
              "<div>\n",
              "<style scoped>\n",
              "    .dataframe tbody tr th:only-of-type {\n",
              "        vertical-align: middle;\n",
              "    }\n",
              "\n",
              "    .dataframe tbody tr th {\n",
              "        vertical-align: top;\n",
              "    }\n",
              "\n",
              "    .dataframe thead th {\n",
              "        text-align: right;\n",
              "    }\n",
              "</style>\n",
              "<table border=\"1\" class=\"dataframe\">\n",
              "  <thead>\n",
              "    <tr style=\"text-align: right;\">\n",
              "      <th></th>\n",
              "      <th>periodo</th>\n",
              "      <th>codigo</th>\n",
              "      <th>nome</th>\n",
              "      <th>turma</th>\n",
              "      <th>siape</th>\n",
              "      <th>horario</th>\n",
              "      <th>matricula</th>\n",
              "      <th>nota</th>\n",
              "      <th>situacao</th>\n",
              "    </tr>\n",
              "  </thead>\n",
              "  <tbody>\n",
              "    <tr>\n",
              "      <th>33430</th>\n",
              "      <td>1</td>\n",
              "      <td>ECT1203</td>\n",
              "      <td>LINGUAGEM DE PROGRAMAÇÃO</td>\n",
              "      <td>03D</td>\n",
              "      <td>3687943-8</td>\n",
              "      <td>7T12  46N34 (02/02/2015 - 20/06/2015)</td>\n",
              "      <td>2014026782</td>\n",
              "      <td>-</td>\n",
              "      <td>EXCLUIDA</td>\n",
              "    </tr>\n",
              "    <tr>\n",
              "      <th>28963</th>\n",
              "      <td>1</td>\n",
              "      <td>ECT1211</td>\n",
              "      <td>ÁLGEBRA LINEAR</td>\n",
              "      <td>06</td>\n",
              "      <td>2998728-0</td>\n",
              "      <td>235T56 (02/02/2015 - 05/06/2015)</td>\n",
              "      <td>2012925918</td>\n",
              "      <td>-</td>\n",
              "      <td>CANCELADO</td>\n",
              "    </tr>\n",
              "    <tr>\n",
              "      <th>10340</th>\n",
              "      <td>1</td>\n",
              "      <td>ECT2414</td>\n",
              "      <td>ELETRICIDADE APLICADA</td>\n",
              "      <td>03E</td>\n",
              "      <td>1658061-5,2008861-4,2223220-8</td>\n",
              "      <td>35N34 (02/02/2015 - 31/03/2015),  7T12  35N34 ...</td>\n",
              "      <td>2012037858</td>\n",
              "      <td>-</td>\n",
              "      <td>EXCLUIDA</td>\n",
              "    </tr>\n",
              "    <tr>\n",
              "      <th>43606</th>\n",
              "      <td>1</td>\n",
              "      <td>ECT2203</td>\n",
              "      <td>LÓGICA DE PROGRAMAÇÃO</td>\n",
              "      <td>03B</td>\n",
              "      <td>1805797-9</td>\n",
              "      <td>7M12  46N34 (02/02/2015 - 06/06/2015)</td>\n",
              "      <td>2013090395</td>\n",
              "      <td>0.80</td>\n",
              "      <td>REPROVADO</td>\n",
              "    </tr>\n",
              "    <tr>\n",
              "      <th>2678</th>\n",
              "      <td>1</td>\n",
              "      <td>ECT2203</td>\n",
              "      <td>LÓGICA DE PROGRAMAÇÃO</td>\n",
              "      <td>02C</td>\n",
              "      <td>1060782-1,1434796-4</td>\n",
              "      <td>6M56  46T56 (02/02/2015 - 06/06/2015)</td>\n",
              "      <td>2014080277</td>\n",
              "      <td>-</td>\n",
              "      <td>EXCLUIDA</td>\n",
              "    </tr>\n",
              "    <tr>\n",
              "      <th>3164</th>\n",
              "      <td>1</td>\n",
              "      <td>ECT2104</td>\n",
              "      <td>QUÍMICA GERAL</td>\n",
              "      <td>01B</td>\n",
              "      <td>3432383-1</td>\n",
              "      <td>35M56  3T12 (02/02/2015 - 20/06/2015)</td>\n",
              "      <td>2013077606</td>\n",
              "      <td>-</td>\n",
              "      <td>EXCLUIDA</td>\n",
              "    </tr>\n",
              "    <tr>\n",
              "      <th>41880</th>\n",
              "      <td>1</td>\n",
              "      <td>ECT1405</td>\n",
              "      <td>MODELAGEM INTEGRADA</td>\n",
              "      <td>01A</td>\n",
              "      <td>2066958-7,2571613-3</td>\n",
              "      <td>3M12  346T34 (02/02/2015 - 12/04/2015)</td>\n",
              "      <td>2012922596</td>\n",
              "      <td>0.20</td>\n",
              "      <td>REPROVADO</td>\n",
              "    </tr>\n",
              "    <tr>\n",
              "      <th>30874</th>\n",
              "      <td>1</td>\n",
              "      <td>ECT2412</td>\n",
              "      <td>MECÂNICA DOS SÓLIDOS</td>\n",
              "      <td>02</td>\n",
              "      <td>2212882-6</td>\n",
              "      <td>25T34 (02/02/2015 - 20/06/2015)</td>\n",
              "      <td>2013070884</td>\n",
              "      <td>6.40</td>\n",
              "      <td>APROVADO POR NOTA</td>\n",
              "    </tr>\n",
              "    <tr>\n",
              "      <th>35907</th>\n",
              "      <td>1</td>\n",
              "      <td>ECT2204</td>\n",
              "      <td>INTRODUÇÃO À FÍSICA CLÁSSICA I</td>\n",
              "      <td>03</td>\n",
              "      <td>1717472-6</td>\n",
              "      <td>36T12 (02/02/2015 - 20/06/2015)</td>\n",
              "      <td>2013021754</td>\n",
              "      <td>-</td>\n",
              "      <td>EXCLUIDA</td>\n",
              "    </tr>\n",
              "    <tr>\n",
              "      <th>30094</th>\n",
              "      <td>1</td>\n",
              "      <td>MEC1834</td>\n",
              "      <td>INTRODUÇÃO  AOS ELEMENTOS DE MÁQUINAS</td>\n",
              "      <td>01</td>\n",
              "      <td>5220696-5</td>\n",
              "      <td>46M56</td>\n",
              "      <td>2012922700</td>\n",
              "      <td>8.10</td>\n",
              "      <td>APROVADO</td>\n",
              "    </tr>\n",
              "  </tbody>\n",
              "</table>\n",
              "</div>"
            ],
            "text/plain": [
              "       periodo   codigo  ...  nota           situacao\n",
              "33430        1  ECT1203  ...     -           EXCLUIDA\n",
              "28963        1  ECT1211  ...     -          CANCELADO\n",
              "10340        1  ECT2414  ...     -           EXCLUIDA\n",
              "43606        1  ECT2203  ...  0.80          REPROVADO\n",
              "2678         1  ECT2203  ...     -           EXCLUIDA\n",
              "3164         1  ECT2104  ...     -           EXCLUIDA\n",
              "41880        1  ECT1405  ...  0.20          REPROVADO\n",
              "30874        1  ECT2412  ...  6.40  APROVADO POR NOTA\n",
              "35907        1  ECT2204  ...     -           EXCLUIDA\n",
              "30094        1  MEC1834  ...  8.10           APROVADO\n",
              "\n",
              "[10 rows x 9 columns]"
            ]
          },
          "metadata": {
            "tags": []
          },
          "execution_count": 4
        }
      ]
    },
    {
      "cell_type": "markdown",
      "metadata": {
        "id": "Kd-L2Uga8_4G",
        "colab_type": "text"
      },
      "source": [
        "Função para converter para string"
      ]
    },
    {
      "cell_type": "code",
      "metadata": {
        "id": "Kzt_95jc0d2A",
        "colab_type": "code",
        "colab": {}
      },
      "source": [
        "def converteParaString(table):\n",
        "  table[\"codigo\"]     = table[\"codigo\"].astype(str)\n",
        "  table[\"disciplina\"] = table[\"disciplina\"].astype(str)\n",
        "  table[\"turma\"]      = table[\"turma\"].astype(str)\n",
        "  table[\"horario\"]    = table[\"horario\"].astype(str)\n",
        "  #table[\"matricula\"]  = table[\"matricula\"].astype(str)\n",
        "  table[\"situacao\"]   = table[\"situacao\"].astype(str)\n",
        "  return table"
      ],
      "execution_count": 0,
      "outputs": []
    },
    {
      "cell_type": "markdown",
      "metadata": {
        "id": "XyAtMiOwEhWb",
        "colab_type": "text"
      },
      "source": [
        "Função para converter todos os reprovados e aprovados diferentes para Reprovado e Aprovado"
      ]
    },
    {
      "cell_type": "code",
      "metadata": {
        "id": "FF1Tk5xPBcCi",
        "colab_type": "code",
        "colab": {}
      },
      "source": [
        "def fazerReplace(table):\n",
        "  table.loc[table[\"situacao\"].str.contains(\"REPROVADO\"),\"situacao\"] = \"REPROVADO\"\n",
        "  table.loc[table[\"situacao\"].str.contains(\"APROVADO\"),\"situacao\"] = \"APROVADO\"\n",
        "  return table"
      ],
      "execution_count": 0,
      "outputs": []
    },
    {
      "cell_type": "markdown",
      "metadata": {
        "id": "aWoRez4VePUA",
        "colab_type": "text"
      },
      "source": [
        "Função filtro para pegar apenas as situações onde o aluno conseguiu se matricular na disciplina"
      ]
    },
    {
      "cell_type": "code",
      "metadata": {
        "id": "jljZPRBfU45X",
        "colab_type": "code",
        "colab": {}
      },
      "source": [
        "def filtroSituacoesValidas(table):\n",
        "  table = table.loc[ (table[\"situacao\"].str.contains(\"APROVADO\")) |\n",
        "                     (table[\"situacao\"].str.contains(\"REPROVADO\")) \n",
        "                   ] \n",
        "  #tem disciplina que só contam para a horas complementares .. não tem nota\n",
        "  table = table.loc[ ~(table[\"nota\"].str.contains(\"-\")) ]\n",
        "  table[\"nota\"]   = table[\"nota\"].astype(float)\n",
        "  \n",
        "  return table"
      ],
      "execution_count": 0,
      "outputs": []
    },
    {
      "cell_type": "markdown",
      "metadata": {
        "id": "1jMnnSQlGfPI",
        "colab_type": "text"
      },
      "source": [
        "Função para montar a tabela com os antecedentes dos alunos"
      ]
    },
    {
      "cell_type": "code",
      "metadata": {
        "id": "OLiMXzpAPdd8",
        "colab_type": "code",
        "colab": {}
      },
      "source": [
        "def criaDataFrameAntecedentes(table):\n",
        "  table = table.merge(carga,on=\"codigo\")\n",
        "  \n",
        "  df = pd.DataFrame()\n",
        "  final = pd.DataFrame()\n",
        "\n",
        "  df = table.groupby(\"matricula\")[\"nota\"].mean()\n",
        "  df = df.reset_index()\n",
        "  df.rename(columns={\"nota\":\"media\"},inplace=True)\n",
        "  final = df\n",
        "\n",
        "  df = table.groupby(\"matricula\")[\"nota\"].min()\n",
        "  df = df.reset_index()\n",
        "  df.rename(columns={\"nota\":\"min\"},inplace=True)\n",
        "  final = final.merge(df,on=\"matricula\", how ='outer')\n",
        "\n",
        "  df = table.groupby(\"matricula\")[\"nota\"].max()\n",
        "  df = df.reset_index()\n",
        "  df.rename(columns={\"nota\":\"max\"},inplace=True)\n",
        "  final = final.merge(df,on=\"matricula\",how ='outer')\n",
        "\n",
        "  df = table.groupby(\"matricula\")[\"codigo\"].count()\n",
        "  df = df.reset_index()\n",
        "  df.rename(columns={\"codigo\":\"QuantDisciCursadas\"},inplace=True)\n",
        "  final = final.merge(df,on=\"matricula\", how ='outer')\n",
        "\n",
        "  df = table.groupby([\"matricula\",\"situacao\"])[\"codigo\"].count()\n",
        "  df = df.reset_index()\n",
        "  df.rename(columns={\"codigo\":\"quanSituacao\"},inplace=True)\n",
        "\n",
        "  aprovado = df.loc[df[\"situacao\"] == \"APROVADO\",:]\n",
        "  aprovado.rename(columns={\"quanSituacao\":\"quantAprovado\"},inplace=True)\n",
        "  final = final.merge(aprovado,on=\"matricula\", how ='outer')\n",
        "  \n",
        "  reprovado = df.loc[df[\"situacao\"] == \"REPROVADO\",:]\n",
        "  reprovado.rename(columns={\"quanSituacao\":\"quantReprovado\"},inplace=True)\n",
        "  final = final.merge(reprovado,on=\"matricula\", how ='outer')\n",
        "  final = final.drop([\"situacao_x\",\"situacao_y\"],axis=1)\n",
        " \n",
        "  df = table.groupby(\"matricula\")[\"ch_total\"].sum()\n",
        "  df = df.reset_index()\n",
        "  df.rename(columns={\"ch_total\":\"carga_total\"},inplace=True)\n",
        "  final = final.merge(df,on=\"matricula\", how ='outer')\n",
        "  \n",
        "  final[\"anoSemestre\"] = table[\"ano\"]\n",
        "  return final"
      ],
      "execution_count": 0,
      "outputs": []
    },
    {
      "cell_type": "markdown",
      "metadata": {
        "id": "h6HcD2f3Mq0v",
        "colab_type": "text"
      },
      "source": [
        "Função para inserir o ano de ingresso do aluno"
      ]
    },
    {
      "cell_type": "code",
      "metadata": {
        "id": "mOMBSfwSMo3s",
        "colab_type": "code",
        "colab": {}
      },
      "source": [
        "def AnoIngresso(table) : \n",
        "  table[\"matricula\"] = table[\"matricula\"].astype(str)\n",
        "  table[\"AnoIngresso\"] = table[\"matricula\"].str[0:4]\n",
        "  table[\"AnoIngresso\"] = table[\"AnoIngresso\"].astype(float)\n",
        "  table[\"anoSemestre\"] = table[\"anoSemestre\"].astype(float)\n",
        "  table[\"AnosMatriculado\"] = table[\"anoSemestre\"] - table[\"AnoIngresso\"]\n",
        "  table[\"AnosMatriculado\"] = table[\"AnosMatriculado\"].astype(int)\n",
        "  return table"
      ],
      "execution_count": 0,
      "outputs": []
    },
    {
      "cell_type": "markdown",
      "metadata": {
        "id": "ykzfkdBb8Eh2",
        "colab_type": "text"
      },
      "source": [
        "Função para adicionar os anos a cada semestre"
      ]
    },
    {
      "cell_type": "code",
      "metadata": {
        "id": "pj_5sD_Q17ms",
        "colab_type": "code",
        "colab": {}
      },
      "source": [
        "def concatena(table,i,ano):\n",
        "  if i%2==0:\n",
        "    ano += 1\n",
        "  table = fazerReplace(table)  \n",
        "  table[\"ano\"] = str(ano)+\".\"+str(table[\"periodo\"].iloc[0])\n",
        "  table.rename(columns={\"nome\":\"disciplina\"},inplace=True)\n",
        "  table.drop(columns=[\"periodo\",\"siape\"], inplace=True)\n",
        "  table = filtroSituacoesValidas(table)\n",
        "  table = converteParaString(table)\n",
        "  notas = table\n",
        "  table = criaDataFrameAntecedentes(table)\n",
        "  table = table.fillna(0)\n",
        "  table[\"quantAprovado\"] = table[\"quantAprovado\"].astype(int)\n",
        "  table[\"quantReprovado\"] = table[\"quantReprovado\"].astype(int)\n",
        "  table = AnoIngresso(table)\n",
        "  i+=1\n",
        "  return (table,i,ano,notas)"
      ],
      "execution_count": 0,
      "outputs": []
    },
    {
      "cell_type": "markdown",
      "metadata": {
        "id": "FJESV_njHIVD",
        "colab_type": "text"
      },
      "source": [
        "Criando 10 novos dataframes"
      ]
    },
    {
      "cell_type": "code",
      "metadata": {
        "id": "kIXH4FNAHIC7",
        "colab_type": "code",
        "colab": {}
      },
      "source": [
        "semestre2015_1 = pd.DataFrame()\n",
        "semestre2015_2 = pd.DataFrame()\n",
        "semestre2016_1 = pd.DataFrame()\n",
        "semestre2016_2 = pd.DataFrame()\n",
        "semestre2017_1 = pd.DataFrame()\n",
        "semestre2017_2 = pd.DataFrame()\n",
        "semestre2018_1 = pd.DataFrame()\n",
        "semestre2018_2 = pd.DataFrame()\n",
        "semestre2019_1 = pd.DataFrame()\n",
        "#semestre2019_2 = pd.DataFrame()"
      ],
      "execution_count": 0,
      "outputs": []
    },
    {
      "cell_type": "markdown",
      "metadata": {
        "id": "ohSi-gHOMTUz",
        "colab_type": "text"
      },
      "source": [
        "Chamada da função de inserir o ano + período, nela também é chamada a de filtro de situação e a de conversão para string"
      ]
    },
    {
      "cell_type": "code",
      "metadata": {
        "id": "Qpkoncd7P3OZ",
        "colab_type": "code",
        "outputId": "8addd9aa-3ee0-41af-9b3a-4a1acf408cef",
        "colab": {
          "base_uri": "https://localhost:8080/",
          "height": 108
        }
      },
      "source": [
        "ano = 2014\n",
        "i = 2\n",
        "\n",
        "(semestre2015_1,i,ano,notas2015_1) = concatena(notas2015_1,i,ano)\n",
        "(semestre2015_2,i,ano,notas2015_2) = concatena(notas2015_2,i,ano)\n",
        "(semestre2016_1,i,ano,notas2016_1) = concatena(notas2016_1,i,ano)\n",
        "(semestre2016_2,i,ano,notas2016_2) = concatena(notas2016_2,i,ano)\n",
        "(semestre2017_1,i,ano,notas2017_1) = concatena(notas2017_1,i,ano)\n",
        "(semestre2017_2,i,ano,notas2017_2) = concatena(notas2017_2,i,ano)\n",
        "(semestre2018_1,i,ano,notas2018_1) = concatena(notas2018_1,i,ano)\n",
        "(semestre2018_2,i,ano,notas2018_2) = concatena(notas2018_2,i,ano)\n",
        "(semestre2019_1,i,ano,notas2019_1) = concatena(notas2019_1,i,ano)\n",
        "#(semestre2019_2,i,ano,notas2019_2) = concatena(notas2019_2,i,ano)"
      ],
      "execution_count": 0,
      "outputs": [
        {
          "output_type": "stream",
          "text": [
            "/usr/local/lib/python3.6/dist-packages/pandas/core/frame.py:4238: SettingWithCopyWarning: \n",
            "A value is trying to be set on a copy of a slice from a DataFrame\n",
            "\n",
            "See the caveats in the documentation: http://pandas.pydata.org/pandas-docs/stable/user_guide/indexing.html#returning-a-view-versus-a-copy\n",
            "  return super().rename(**kwargs)\n"
          ],
          "name": "stderr"
        }
      ]
    },
    {
      "cell_type": "code",
      "metadata": {
        "id": "Ooo9ALuaLQYH",
        "colab_type": "code",
        "outputId": "26c4b66b-2b9e-4eac-b65d-2cedf97205f2",
        "colab": {
          "base_uri": "https://localhost:8080/",
          "height": 407
        }
      },
      "source": [
        "semestre2015_1"
      ],
      "execution_count": 0,
      "outputs": [
        {
          "output_type": "execute_result",
          "data": {
            "text/html": [
              "<div>\n",
              "<style scoped>\n",
              "    .dataframe tbody tr th:only-of-type {\n",
              "        vertical-align: middle;\n",
              "    }\n",
              "\n",
              "    .dataframe tbody tr th {\n",
              "        vertical-align: top;\n",
              "    }\n",
              "\n",
              "    .dataframe thead th {\n",
              "        text-align: right;\n",
              "    }\n",
              "</style>\n",
              "<table border=\"1\" class=\"dataframe\">\n",
              "  <thead>\n",
              "    <tr style=\"text-align: right;\">\n",
              "      <th></th>\n",
              "      <th>matricula</th>\n",
              "      <th>media</th>\n",
              "      <th>min</th>\n",
              "      <th>max</th>\n",
              "      <th>QuantDisciCursadas</th>\n",
              "      <th>quantAprovado</th>\n",
              "      <th>quantReprovado</th>\n",
              "      <th>carga_total</th>\n",
              "      <th>anoSemestre</th>\n",
              "      <th>AnoIngresso</th>\n",
              "      <th>AnosMatriculado</th>\n",
              "    </tr>\n",
              "  </thead>\n",
              "  <tbody>\n",
              "    <tr>\n",
              "      <th>0</th>\n",
              "      <td>2009028341</td>\n",
              "      <td>4.971429</td>\n",
              "      <td>0.7</td>\n",
              "      <td>9.1</td>\n",
              "      <td>7</td>\n",
              "      <td>5</td>\n",
              "      <td>2</td>\n",
              "      <td>450</td>\n",
              "      <td>2015.1</td>\n",
              "      <td>2009.0</td>\n",
              "      <td>6</td>\n",
              "    </tr>\n",
              "    <tr>\n",
              "      <th>1</th>\n",
              "      <td>2009028457</td>\n",
              "      <td>3.950000</td>\n",
              "      <td>0.0</td>\n",
              "      <td>6.1</td>\n",
              "      <td>4</td>\n",
              "      <td>2</td>\n",
              "      <td>2</td>\n",
              "      <td>210</td>\n",
              "      <td>2015.1</td>\n",
              "      <td>2009.0</td>\n",
              "      <td>6</td>\n",
              "    </tr>\n",
              "    <tr>\n",
              "      <th>2</th>\n",
              "      <td>2009028473</td>\n",
              "      <td>6.485714</td>\n",
              "      <td>5.2</td>\n",
              "      <td>8.6</td>\n",
              "      <td>7</td>\n",
              "      <td>7</td>\n",
              "      <td>0</td>\n",
              "      <td>420</td>\n",
              "      <td>2015.1</td>\n",
              "      <td>2009.0</td>\n",
              "      <td>6</td>\n",
              "    </tr>\n",
              "    <tr>\n",
              "      <th>3</th>\n",
              "      <td>2009029488</td>\n",
              "      <td>4.033333</td>\n",
              "      <td>0.0</td>\n",
              "      <td>7.2</td>\n",
              "      <td>6</td>\n",
              "      <td>3</td>\n",
              "      <td>3</td>\n",
              "      <td>360</td>\n",
              "      <td>2015.1</td>\n",
              "      <td>2009.0</td>\n",
              "      <td>6</td>\n",
              "    </tr>\n",
              "    <tr>\n",
              "      <th>4</th>\n",
              "      <td>2009029534</td>\n",
              "      <td>5.880000</td>\n",
              "      <td>2.4</td>\n",
              "      <td>7.1</td>\n",
              "      <td>5</td>\n",
              "      <td>4</td>\n",
              "      <td>1</td>\n",
              "      <td>270</td>\n",
              "      <td>2015.1</td>\n",
              "      <td>2009.0</td>\n",
              "      <td>6</td>\n",
              "    </tr>\n",
              "    <tr>\n",
              "      <th>...</th>\n",
              "      <td>...</td>\n",
              "      <td>...</td>\n",
              "      <td>...</td>\n",
              "      <td>...</td>\n",
              "      <td>...</td>\n",
              "      <td>...</td>\n",
              "      <td>...</td>\n",
              "      <td>...</td>\n",
              "      <td>...</td>\n",
              "      <td>...</td>\n",
              "      <td>...</td>\n",
              "    </tr>\n",
              "    <tr>\n",
              "      <th>3069</th>\n",
              "      <td>2015096155</td>\n",
              "      <td>3.883333</td>\n",
              "      <td>1.2</td>\n",
              "      <td>6.6</td>\n",
              "      <td>6</td>\n",
              "      <td>3</td>\n",
              "      <td>3</td>\n",
              "      <td>330</td>\n",
              "      <td>2015.1</td>\n",
              "      <td>2015.0</td>\n",
              "      <td>0</td>\n",
              "    </tr>\n",
              "    <tr>\n",
              "      <th>3070</th>\n",
              "      <td>2015096217</td>\n",
              "      <td>4.733333</td>\n",
              "      <td>0.2</td>\n",
              "      <td>7.6</td>\n",
              "      <td>6</td>\n",
              "      <td>3</td>\n",
              "      <td>3</td>\n",
              "      <td>330</td>\n",
              "      <td>2015.1</td>\n",
              "      <td>2015.0</td>\n",
              "      <td>0</td>\n",
              "    </tr>\n",
              "    <tr>\n",
              "      <th>3071</th>\n",
              "      <td>2015096315</td>\n",
              "      <td>3.050000</td>\n",
              "      <td>0.0</td>\n",
              "      <td>6.8</td>\n",
              "      <td>6</td>\n",
              "      <td>2</td>\n",
              "      <td>4</td>\n",
              "      <td>330</td>\n",
              "      <td>2015.1</td>\n",
              "      <td>2015.0</td>\n",
              "      <td>0</td>\n",
              "    </tr>\n",
              "    <tr>\n",
              "      <th>3072</th>\n",
              "      <td>2015096398</td>\n",
              "      <td>6.050000</td>\n",
              "      <td>5.4</td>\n",
              "      <td>6.7</td>\n",
              "      <td>2</td>\n",
              "      <td>2</td>\n",
              "      <td>0</td>\n",
              "      <td>120</td>\n",
              "      <td>2015.1</td>\n",
              "      <td>2015.0</td>\n",
              "      <td>0</td>\n",
              "    </tr>\n",
              "    <tr>\n",
              "      <th>3073</th>\n",
              "      <td>2015096413</td>\n",
              "      <td>5.216667</td>\n",
              "      <td>1.2</td>\n",
              "      <td>8.3</td>\n",
              "      <td>6</td>\n",
              "      <td>3</td>\n",
              "      <td>3</td>\n",
              "      <td>330</td>\n",
              "      <td>2015.1</td>\n",
              "      <td>2015.0</td>\n",
              "      <td>0</td>\n",
              "    </tr>\n",
              "  </tbody>\n",
              "</table>\n",
              "<p>3074 rows × 11 columns</p>\n",
              "</div>"
            ],
            "text/plain": [
              "       matricula     media  min  ...  anoSemestre  AnoIngresso  AnosMatriculado\n",
              "0     2009028341  4.971429  0.7  ...       2015.1       2009.0                6\n",
              "1     2009028457  3.950000  0.0  ...       2015.1       2009.0                6\n",
              "2     2009028473  6.485714  5.2  ...       2015.1       2009.0                6\n",
              "3     2009029488  4.033333  0.0  ...       2015.1       2009.0                6\n",
              "4     2009029534  5.880000  2.4  ...       2015.1       2009.0                6\n",
              "...          ...       ...  ...  ...          ...          ...              ...\n",
              "3069  2015096155  3.883333  1.2  ...       2015.1       2015.0                0\n",
              "3070  2015096217  4.733333  0.2  ...       2015.1       2015.0                0\n",
              "3071  2015096315  3.050000  0.0  ...       2015.1       2015.0                0\n",
              "3072  2015096398  6.050000  5.4  ...       2015.1       2015.0                0\n",
              "3073  2015096413  5.216667  1.2  ...       2015.1       2015.0                0\n",
              "\n",
              "[3074 rows x 11 columns]"
            ]
          },
          "metadata": {
            "tags": []
          },
          "execution_count": 13
        }
      ]
    },
    {
      "cell_type": "markdown",
      "metadata": {
        "id": "WIzyiplZOsVu",
        "colab_type": "text"
      },
      "source": [
        "# Projeto Perseu - análise de solicitação de matricula"
      ]
    },
    {
      "cell_type": "markdown",
      "metadata": {
        "id": "ZyPzWHTDOxwH",
        "colab_type": "text"
      },
      "source": [
        "Media de todas as disciplinas\n",
        "\n",
        "Maior nota\n",
        "\n",
        "Menor nota\n",
        "\n",
        "Quantidade de disciplinas\n",
        "\n",
        "Carga horaria total\n",
        "\n",
        "Quantidade de aprovação e reprovação"
      ]
    },
    {
      "cell_type": "code",
      "metadata": {
        "id": "tir2zkciQJpf",
        "colab_type": "code",
        "outputId": "74b61b20-ad00-4be3-97ba-b0fd394e3bcf",
        "colab": {
          "base_uri": "https://localhost:8080/",
          "height": 108
        }
      },
      "source": [
        "semestre2017_1.head(2)"
      ],
      "execution_count": 0,
      "outputs": [
        {
          "output_type": "execute_result",
          "data": {
            "text/html": [
              "<div>\n",
              "<style scoped>\n",
              "    .dataframe tbody tr th:only-of-type {\n",
              "        vertical-align: middle;\n",
              "    }\n",
              "\n",
              "    .dataframe tbody tr th {\n",
              "        vertical-align: top;\n",
              "    }\n",
              "\n",
              "    .dataframe thead th {\n",
              "        text-align: right;\n",
              "    }\n",
              "</style>\n",
              "<table border=\"1\" class=\"dataframe\">\n",
              "  <thead>\n",
              "    <tr style=\"text-align: right;\">\n",
              "      <th></th>\n",
              "      <th>matricula</th>\n",
              "      <th>media</th>\n",
              "      <th>min</th>\n",
              "      <th>max</th>\n",
              "      <th>QuantDisciCursadas</th>\n",
              "      <th>quantAprovado</th>\n",
              "      <th>quantReprovado</th>\n",
              "      <th>carga_total</th>\n",
              "      <th>anoSemestre</th>\n",
              "      <th>AnoIngresso</th>\n",
              "      <th>AnosMatriculado</th>\n",
              "    </tr>\n",
              "  </thead>\n",
              "  <tbody>\n",
              "    <tr>\n",
              "      <th>0</th>\n",
              "      <td>2009028457</td>\n",
              "      <td>3.05</td>\n",
              "      <td>0.0</td>\n",
              "      <td>6.8</td>\n",
              "      <td>4</td>\n",
              "      <td>2</td>\n",
              "      <td>2</td>\n",
              "      <td>270</td>\n",
              "      <td>2017.1</td>\n",
              "      <td>2009.0</td>\n",
              "      <td>8</td>\n",
              "    </tr>\n",
              "    <tr>\n",
              "      <th>1</th>\n",
              "      <td>2009030796</td>\n",
              "      <td>5.60</td>\n",
              "      <td>5.5</td>\n",
              "      <td>5.7</td>\n",
              "      <td>2</td>\n",
              "      <td>1</td>\n",
              "      <td>1</td>\n",
              "      <td>120</td>\n",
              "      <td>2017.1</td>\n",
              "      <td>2009.0</td>\n",
              "      <td>8</td>\n",
              "    </tr>\n",
              "  </tbody>\n",
              "</table>\n",
              "</div>"
            ],
            "text/plain": [
              "    matricula  media  min  ...  anoSemestre  AnoIngresso  AnosMatriculado\n",
              "0  2009028457   3.05  0.0  ...       2017.1       2009.0                8\n",
              "1  2009030796   5.60  5.5  ...       2017.1       2009.0                8\n",
              "\n",
              "[2 rows x 11 columns]"
            ]
          },
          "metadata": {
            "tags": []
          },
          "execution_count": 14
        }
      ]
    },
    {
      "cell_type": "code",
      "metadata": {
        "id": "mR7aFMmTP3D1",
        "colab_type": "code",
        "outputId": "4e17d437-84eb-4506-a708-949eda505d33",
        "colab": {
          "base_uri": "https://localhost:8080/",
          "height": 108
        }
      },
      "source": [
        "notas2017_2.head(2)"
      ],
      "execution_count": 0,
      "outputs": [
        {
          "output_type": "execute_result",
          "data": {
            "text/html": [
              "<div>\n",
              "<style scoped>\n",
              "    .dataframe tbody tr th:only-of-type {\n",
              "        vertical-align: middle;\n",
              "    }\n",
              "\n",
              "    .dataframe tbody tr th {\n",
              "        vertical-align: top;\n",
              "    }\n",
              "\n",
              "    .dataframe thead th {\n",
              "        text-align: right;\n",
              "    }\n",
              "</style>\n",
              "<table border=\"1\" class=\"dataframe\">\n",
              "  <thead>\n",
              "    <tr style=\"text-align: right;\">\n",
              "      <th></th>\n",
              "      <th>codigo</th>\n",
              "      <th>disciplina</th>\n",
              "      <th>turma</th>\n",
              "      <th>horario</th>\n",
              "      <th>matricula</th>\n",
              "      <th>nota</th>\n",
              "      <th>situacao</th>\n",
              "      <th>ano</th>\n",
              "    </tr>\n",
              "  </thead>\n",
              "  <tbody>\n",
              "    <tr>\n",
              "      <th>12</th>\n",
              "      <td>ECT2101</td>\n",
              "      <td>PRÉ-CÁLCULO</td>\n",
              "      <td>01</td>\n",
              "      <td>2356T12 (24/07/2017 - 30/09/2017)</td>\n",
              "      <td>20170148556</td>\n",
              "      <td>6.3</td>\n",
              "      <td>REPROVADO</td>\n",
              "      <td>2017.2</td>\n",
              "    </tr>\n",
              "    <tr>\n",
              "      <th>13</th>\n",
              "      <td>ECT2102</td>\n",
              "      <td>VETORES E GEOMETRIA ANALÍTICA</td>\n",
              "      <td>01</td>\n",
              "      <td>36T34 (24/07/2017 - 16/12/2017)</td>\n",
              "      <td>20170148556</td>\n",
              "      <td>1.6</td>\n",
              "      <td>REPROVADO</td>\n",
              "      <td>2017.2</td>\n",
              "    </tr>\n",
              "  </tbody>\n",
              "</table>\n",
              "</div>"
            ],
            "text/plain": [
              "     codigo                     disciplina turma  ... nota   situacao     ano\n",
              "12  ECT2101                    PRÉ-CÁLCULO    01  ...  6.3  REPROVADO  2017.2\n",
              "13  ECT2102  VETORES E GEOMETRIA ANALÍTICA    01  ...  1.6  REPROVADO  2017.2\n",
              "\n",
              "[2 rows x 8 columns]"
            ]
          },
          "metadata": {
            "tags": []
          },
          "execution_count": 15
        }
      ]
    },
    {
      "cell_type": "markdown",
      "metadata": {
        "id": "jN9yvF4aSHyi",
        "colab_type": "text"
      },
      "source": [
        "Função para concatenar o antecedente com a situação em matéria posterior"
      ]
    },
    {
      "cell_type": "code",
      "metadata": {
        "id": "usk3RpBuI5bt",
        "colab_type": "code",
        "colab": {}
      },
      "source": [
        "def concatenaAntecessoresComResultadoPosterior(tableAntecedente,tableAtual,situacaoPosterior,final):\n",
        "  \n",
        "  tableAntecedente[\"matricula\"] = tableAntecedente[\"matricula\"].astype(int)\n",
        "  tableAtual[\"matricula\"] = tableAtual[\"matricula\"].astype(int)\n",
        "  disc =  situacaoPosterior[[\"codigo\", \"matricula\",\"situacao\"]]\n",
        "\n",
        "  tableAtual = tableAtual.iloc[:,[0,7,4,-1]]\n",
        "  tableAtual.rename(columns={\"carga_total\":\"carga_total_atual\",\"QuantDisciCursadas\":\"QuantDisciAtual\"}, inplace=True) \n",
        "  #tableAntecedente = tableAntecedente[[\"matricula\",\"media\",\"min\",\"max\",\"QuantDisciCursadas\",\"quantAprovado\",\"quantReprovado\",\"carga_total\"]]\n",
        "  tableAntecedente = tableAntecedente.iloc[:,:-3]\n",
        "\n",
        "  tableAntecedente = pd.merge(tableAntecedente,disc,on=\"matricula\")\n",
        "  tableAtual = pd.merge(tableAntecedente,tableAtual,on=\"matricula\")\n",
        "  \n",
        "  if(final.empty):\n",
        "    final = tableAtual\n",
        "  else:\n",
        "    final = pd.concat([final,tableAtual],ignore_index=True,axis=0)\n",
        " \n",
        "  return final"
      ],
      "execution_count": 0,
      "outputs": []
    },
    {
      "cell_type": "markdown",
      "metadata": {
        "id": "XHcZN9QWSTLe",
        "colab_type": "text"
      },
      "source": [
        "Chamada das funções onde armazena em dfFinal"
      ]
    },
    {
      "cell_type": "code",
      "metadata": {
        "id": "YemZcNAoKByM",
        "colab_type": "code",
        "outputId": "d8b42300-a621-4232-dbcd-9f780f414433",
        "colab": {
          "base_uri": "https://localhost:8080/",
          "height": 108
        }
      },
      "source": [
        "dfFinal = pd.DataFrame()\n",
        "\n",
        "dfFinal = concatenaAntecessoresComResultadoPosterior(semestre2015_1,semestre2015_2,notas2015_2,dfFinal)\n",
        "dfFinal = concatenaAntecessoresComResultadoPosterior(semestre2015_2,semestre2016_1,notas2016_1,dfFinal)\n",
        "dfFinal = concatenaAntecessoresComResultadoPosterior(semestre2016_1,semestre2016_2,notas2016_2,dfFinal)\n",
        "dfFinal = concatenaAntecessoresComResultadoPosterior(semestre2016_2,semestre2017_1,notas2017_1,dfFinal)\n",
        "dfFinal = concatenaAntecessoresComResultadoPosterior(semestre2017_1,semestre2017_2,notas2017_2,dfFinal)\n",
        "dfFinal = concatenaAntecessoresComResultadoPosterior(semestre2017_2,semestre2018_1,notas2018_1,dfFinal)\n",
        "dfFinal = concatenaAntecessoresComResultadoPosterior(semestre2018_1,semestre2018_2,notas2018_2,dfFinal)\n",
        "dfFinal = concatenaAntecessoresComResultadoPosterior(semestre2018_2,semestre2019_1,notas2019_1,dfFinal)"
      ],
      "execution_count": 0,
      "outputs": [
        {
          "output_type": "stream",
          "text": [
            "/usr/local/lib/python3.6/dist-packages/pandas/core/frame.py:4238: SettingWithCopyWarning: \n",
            "A value is trying to be set on a copy of a slice from a DataFrame\n",
            "\n",
            "See the caveats in the documentation: http://pandas.pydata.org/pandas-docs/stable/user_guide/indexing.html#returning-a-view-versus-a-copy\n",
            "  return super().rename(**kwargs)\n"
          ],
          "name": "stderr"
        }
      ]
    },
    {
      "cell_type": "code",
      "metadata": {
        "id": "7-Dro0VPNVm-",
        "colab_type": "code",
        "outputId": "006df7c0-943d-4b5a-a75d-2e115d65e8a8",
        "colab": {
          "base_uri": "https://localhost:8080/",
          "height": 198
        }
      },
      "source": [
        "dfFinal.head(5)"
      ],
      "execution_count": 0,
      "outputs": [
        {
          "output_type": "execute_result",
          "data": {
            "text/html": [
              "<div>\n",
              "<style scoped>\n",
              "    .dataframe tbody tr th:only-of-type {\n",
              "        vertical-align: middle;\n",
              "    }\n",
              "\n",
              "    .dataframe tbody tr th {\n",
              "        vertical-align: top;\n",
              "    }\n",
              "\n",
              "    .dataframe thead th {\n",
              "        text-align: right;\n",
              "    }\n",
              "</style>\n",
              "<table border=\"1\" class=\"dataframe\">\n",
              "  <thead>\n",
              "    <tr style=\"text-align: right;\">\n",
              "      <th></th>\n",
              "      <th>matricula</th>\n",
              "      <th>media</th>\n",
              "      <th>min</th>\n",
              "      <th>max</th>\n",
              "      <th>QuantDisciCursadas</th>\n",
              "      <th>quantAprovado</th>\n",
              "      <th>quantReprovado</th>\n",
              "      <th>carga_total</th>\n",
              "      <th>codigo</th>\n",
              "      <th>situacao</th>\n",
              "      <th>carga_total_atual</th>\n",
              "      <th>QuantDisciAtual</th>\n",
              "      <th>AnosMatriculado</th>\n",
              "    </tr>\n",
              "  </thead>\n",
              "  <tbody>\n",
              "    <tr>\n",
              "      <th>0</th>\n",
              "      <td>2009028457</td>\n",
              "      <td>3.95</td>\n",
              "      <td>0.0</td>\n",
              "      <td>6.1</td>\n",
              "      <td>4</td>\n",
              "      <td>2</td>\n",
              "      <td>2</td>\n",
              "      <td>210</td>\n",
              "      <td>ECT2411</td>\n",
              "      <td>REPROVADO</td>\n",
              "      <td>330</td>\n",
              "      <td>5</td>\n",
              "      <td>6</td>\n",
              "    </tr>\n",
              "    <tr>\n",
              "      <th>1</th>\n",
              "      <td>2009028457</td>\n",
              "      <td>3.95</td>\n",
              "      <td>0.0</td>\n",
              "      <td>6.1</td>\n",
              "      <td>4</td>\n",
              "      <td>2</td>\n",
              "      <td>2</td>\n",
              "      <td>210</td>\n",
              "      <td>ECT1569</td>\n",
              "      <td>APROVADO</td>\n",
              "      <td>330</td>\n",
              "      <td>5</td>\n",
              "      <td>6</td>\n",
              "    </tr>\n",
              "    <tr>\n",
              "      <th>2</th>\n",
              "      <td>2009028457</td>\n",
              "      <td>3.95</td>\n",
              "      <td>0.0</td>\n",
              "      <td>6.1</td>\n",
              "      <td>4</td>\n",
              "      <td>2</td>\n",
              "      <td>2</td>\n",
              "      <td>210</td>\n",
              "      <td>ECT2304</td>\n",
              "      <td>REPROVADO</td>\n",
              "      <td>330</td>\n",
              "      <td>5</td>\n",
              "      <td>6</td>\n",
              "    </tr>\n",
              "    <tr>\n",
              "      <th>3</th>\n",
              "      <td>2009028457</td>\n",
              "      <td>3.95</td>\n",
              "      <td>0.0</td>\n",
              "      <td>6.1</td>\n",
              "      <td>4</td>\n",
              "      <td>2</td>\n",
              "      <td>2</td>\n",
              "      <td>210</td>\n",
              "      <td>CIV1206</td>\n",
              "      <td>APROVADO</td>\n",
              "      <td>330</td>\n",
              "      <td>5</td>\n",
              "      <td>6</td>\n",
              "    </tr>\n",
              "    <tr>\n",
              "      <th>4</th>\n",
              "      <td>2009028457</td>\n",
              "      <td>3.95</td>\n",
              "      <td>0.0</td>\n",
              "      <td>6.1</td>\n",
              "      <td>4</td>\n",
              "      <td>2</td>\n",
              "      <td>2</td>\n",
              "      <td>210</td>\n",
              "      <td>ECT2303</td>\n",
              "      <td>REPROVADO</td>\n",
              "      <td>330</td>\n",
              "      <td>5</td>\n",
              "      <td>6</td>\n",
              "    </tr>\n",
              "  </tbody>\n",
              "</table>\n",
              "</div>"
            ],
            "text/plain": [
              "    matricula  media  min  ...  carga_total_atual  QuantDisciAtual  AnosMatriculado\n",
              "0  2009028457   3.95  0.0  ...                330                5                6\n",
              "1  2009028457   3.95  0.0  ...                330                5                6\n",
              "2  2009028457   3.95  0.0  ...                330                5                6\n",
              "3  2009028457   3.95  0.0  ...                330                5                6\n",
              "4  2009028457   3.95  0.0  ...                330                5                6\n",
              "\n",
              "[5 rows x 13 columns]"
            ]
          },
          "metadata": {
            "tags": []
          },
          "execution_count": 19
        }
      ]
    },
    {
      "cell_type": "markdown",
      "metadata": {
        "id": "OV9vDKYvTMji",
        "colab_type": "text"
      },
      "source": [
        "Selecionando as disciplinas da ECT"
      ]
    },
    {
      "cell_type": "code",
      "metadata": {
        "id": "ZSJ0R74WVn9A",
        "colab_type": "code",
        "outputId": "0895cbfa-ba7b-4e5e-9069-31bb40cd52d0",
        "colab": {
          "base_uri": "https://localhost:8080/",
          "height": 435
        }
      },
      "source": [
        "disciplinasECT = dfFinal.loc[dfFinal[\"codigo\"].str.contains(\"ECT22\") | dfFinal[\"codigo\"].str.contains(\"ECT23\") | dfFinal[\"codigo\"].str.contains(\"ECT24\"),:]\n",
        "disciplinasECT.rename(columns={\"codigo\":\"disciplina\"},inplace=True)\n",
        "disciplinasECT.info()"
      ],
      "execution_count": 0,
      "outputs": [
        {
          "output_type": "stream",
          "text": [
            "<class 'pandas.core.frame.DataFrame'>\n",
            "Int64Index: 52490 entries, 0 to 88984\n",
            "Data columns (total 13 columns):\n",
            "matricula             52490 non-null int64\n",
            "media                 52490 non-null float64\n",
            "min                   52490 non-null float64\n",
            "max                   52490 non-null float64\n",
            "QuantDisciCursadas    52490 non-null int64\n",
            "quantAprovado         52490 non-null int64\n",
            "quantReprovado        52490 non-null int64\n",
            "carga_total           52490 non-null int64\n",
            "disciplina            52490 non-null object\n",
            "situacao              52490 non-null object\n",
            "carga_total_atual     52490 non-null int64\n",
            "QuantDisciAtual       52490 non-null int64\n",
            "AnosMatriculado       52490 non-null int64\n",
            "dtypes: float64(3), int64(8), object(2)\n",
            "memory usage: 5.6+ MB\n"
          ],
          "name": "stdout"
        },
        {
          "output_type": "stream",
          "text": [
            "/usr/local/lib/python3.6/dist-packages/pandas/core/frame.py:4238: SettingWithCopyWarning: \n",
            "A value is trying to be set on a copy of a slice from a DataFrame\n",
            "\n",
            "See the caveats in the documentation: http://pandas.pydata.org/pandas-docs/stable/user_guide/indexing.html#returning-a-view-versus-a-copy\n",
            "  return super().rename(**kwargs)\n"
          ],
          "name": "stderr"
        }
      ]
    },
    {
      "cell_type": "markdown",
      "metadata": {
        "id": "WQBwNf0DvdZl",
        "colab_type": "text"
      },
      "source": [
        "Contando quantas vezes o aluno já reprovou na matéria"
      ]
    },
    {
      "cell_type": "code",
      "metadata": {
        "id": "4HPr9iTAtF3U",
        "colab_type": "code",
        "colab": {}
      },
      "source": [
        "prov = disciplinasECT.groupby([\"matricula\",\"disciplina\"])[\"situacao\"].count().reset_index()\n",
        "disciplinasECT[\"vezesReprovado\"] = prov[\"situacao\"] #vari\n",
        "disciplinasECT.replace(np.nan, 0, inplace=True)\n",
        "disciplinasECT[\"vezesReprovado\"] = disciplinasECT[\"vezesReprovado\"].astype(int)\n",
        "disciplinasECT.head()"
      ],
      "execution_count": 0,
      "outputs": []
    },
    {
      "cell_type": "code",
      "metadata": {
        "id": "1WFJfBOmt0Kj",
        "colab_type": "code",
        "outputId": "bc7e378f-657a-4000-b936-32ce147d6edf",
        "colab": {
          "base_uri": "https://localhost:8080/",
          "height": 318
        }
      },
      "source": [
        "disciplinasECT.loc[(disciplinasECT[\"matricula\"]==2009028457),:].sort_values(by=\"disciplina\")"
      ],
      "execution_count": 0,
      "outputs": [
        {
          "output_type": "execute_result",
          "data": {
            "text/html": [
              "<div>\n",
              "<style scoped>\n",
              "    .dataframe tbody tr th:only-of-type {\n",
              "        vertical-align: middle;\n",
              "    }\n",
              "\n",
              "    .dataframe tbody tr th {\n",
              "        vertical-align: top;\n",
              "    }\n",
              "\n",
              "    .dataframe thead th {\n",
              "        text-align: right;\n",
              "    }\n",
              "</style>\n",
              "<table border=\"1\" class=\"dataframe\">\n",
              "  <thead>\n",
              "    <tr style=\"text-align: right;\">\n",
              "      <th></th>\n",
              "      <th>matricula</th>\n",
              "      <th>media</th>\n",
              "      <th>min</th>\n",
              "      <th>max</th>\n",
              "      <th>QuantDisciCursadas</th>\n",
              "      <th>quantAprovado</th>\n",
              "      <th>quantReprovado</th>\n",
              "      <th>carga_total</th>\n",
              "      <th>disciplina</th>\n",
              "      <th>situacao</th>\n",
              "      <th>carga_total_atual</th>\n",
              "      <th>QuantDisciAtual</th>\n",
              "      <th>AnosMatriculado</th>\n",
              "    </tr>\n",
              "  </thead>\n",
              "  <tbody>\n",
              "    <tr>\n",
              "      <th>35470</th>\n",
              "      <td>2009028457</td>\n",
              "      <td>2.733333</td>\n",
              "      <td>0.0</td>\n",
              "      <td>5.6</td>\n",
              "      <td>3</td>\n",
              "      <td>1</td>\n",
              "      <td>2</td>\n",
              "      <td>180</td>\n",
              "      <td>ECT2206</td>\n",
              "      <td>APROVADO</td>\n",
              "      <td>270</td>\n",
              "      <td>4</td>\n",
              "      <td>8</td>\n",
              "    </tr>\n",
              "    <tr>\n",
              "      <th>11842</th>\n",
              "      <td>2009028457</td>\n",
              "      <td>3.340000</td>\n",
              "      <td>0.0</td>\n",
              "      <td>8.8</td>\n",
              "      <td>5</td>\n",
              "      <td>2</td>\n",
              "      <td>3</td>\n",
              "      <td>330</td>\n",
              "      <td>ECT2302</td>\n",
              "      <td>APROVADO</td>\n",
              "      <td>255</td>\n",
              "      <td>5</td>\n",
              "      <td>7</td>\n",
              "    </tr>\n",
              "    <tr>\n",
              "      <th>4</th>\n",
              "      <td>2009028457</td>\n",
              "      <td>3.950000</td>\n",
              "      <td>0.0</td>\n",
              "      <td>6.1</td>\n",
              "      <td>4</td>\n",
              "      <td>2</td>\n",
              "      <td>2</td>\n",
              "      <td>210</td>\n",
              "      <td>ECT2303</td>\n",
              "      <td>REPROVADO</td>\n",
              "      <td>330</td>\n",
              "      <td>5</td>\n",
              "      <td>6</td>\n",
              "    </tr>\n",
              "    <tr>\n",
              "      <th>35467</th>\n",
              "      <td>2009028457</td>\n",
              "      <td>2.733333</td>\n",
              "      <td>0.0</td>\n",
              "      <td>5.6</td>\n",
              "      <td>3</td>\n",
              "      <td>1</td>\n",
              "      <td>2</td>\n",
              "      <td>180</td>\n",
              "      <td>ECT2303</td>\n",
              "      <td>REPROVADO</td>\n",
              "      <td>270</td>\n",
              "      <td>4</td>\n",
              "      <td>8</td>\n",
              "    </tr>\n",
              "    <tr>\n",
              "      <th>2</th>\n",
              "      <td>2009028457</td>\n",
              "      <td>3.950000</td>\n",
              "      <td>0.0</td>\n",
              "      <td>6.1</td>\n",
              "      <td>4</td>\n",
              "      <td>2</td>\n",
              "      <td>2</td>\n",
              "      <td>210</td>\n",
              "      <td>ECT2304</td>\n",
              "      <td>REPROVADO</td>\n",
              "      <td>330</td>\n",
              "      <td>5</td>\n",
              "      <td>6</td>\n",
              "    </tr>\n",
              "    <tr>\n",
              "      <th>11843</th>\n",
              "      <td>2009028457</td>\n",
              "      <td>3.340000</td>\n",
              "      <td>0.0</td>\n",
              "      <td>8.8</td>\n",
              "      <td>5</td>\n",
              "      <td>2</td>\n",
              "      <td>3</td>\n",
              "      <td>330</td>\n",
              "      <td>ECT2304</td>\n",
              "      <td>REPROVADO</td>\n",
              "      <td>255</td>\n",
              "      <td>5</td>\n",
              "      <td>7</td>\n",
              "    </tr>\n",
              "    <tr>\n",
              "      <th>35468</th>\n",
              "      <td>2009028457</td>\n",
              "      <td>2.733333</td>\n",
              "      <td>0.0</td>\n",
              "      <td>5.6</td>\n",
              "      <td>3</td>\n",
              "      <td>1</td>\n",
              "      <td>2</td>\n",
              "      <td>180</td>\n",
              "      <td>ECT2304</td>\n",
              "      <td>REPROVADO</td>\n",
              "      <td>270</td>\n",
              "      <td>4</td>\n",
              "      <td>8</td>\n",
              "    </tr>\n",
              "    <tr>\n",
              "      <th>0</th>\n",
              "      <td>2009028457</td>\n",
              "      <td>3.950000</td>\n",
              "      <td>0.0</td>\n",
              "      <td>6.1</td>\n",
              "      <td>4</td>\n",
              "      <td>2</td>\n",
              "      <td>2</td>\n",
              "      <td>210</td>\n",
              "      <td>ECT2411</td>\n",
              "      <td>REPROVADO</td>\n",
              "      <td>330</td>\n",
              "      <td>5</td>\n",
              "      <td>6</td>\n",
              "    </tr>\n",
              "    <tr>\n",
              "      <th>11841</th>\n",
              "      <td>2009028457</td>\n",
              "      <td>3.340000</td>\n",
              "      <td>0.0</td>\n",
              "      <td>8.8</td>\n",
              "      <td>5</td>\n",
              "      <td>2</td>\n",
              "      <td>3</td>\n",
              "      <td>330</td>\n",
              "      <td>ECT2411</td>\n",
              "      <td>REPROVADO</td>\n",
              "      <td>255</td>\n",
              "      <td>5</td>\n",
              "      <td>7</td>\n",
              "    </tr>\n",
              "  </tbody>\n",
              "</table>\n",
              "</div>"
            ],
            "text/plain": [
              "        matricula     media  ...  QuantDisciAtual  AnosMatriculado\n",
              "35470  2009028457  2.733333  ...                4                8\n",
              "11842  2009028457  3.340000  ...                5                7\n",
              "4      2009028457  3.950000  ...                5                6\n",
              "35467  2009028457  2.733333  ...                4                8\n",
              "2      2009028457  3.950000  ...                5                6\n",
              "11843  2009028457  3.340000  ...                5                7\n",
              "35468  2009028457  2.733333  ...                4                8\n",
              "0      2009028457  3.950000  ...                5                6\n",
              "11841  2009028457  3.340000  ...                5                7\n",
              "\n",
              "[9 rows x 13 columns]"
            ]
          },
          "metadata": {
            "tags": []
          },
          "execution_count": 25
        }
      ]
    },
    {
      "cell_type": "markdown",
      "metadata": {
        "id": "lPqmnRWY1PGK",
        "colab_type": "text"
      },
      "source": [
        "Gerando CSV"
      ]
    },
    {
      "cell_type": "code",
      "metadata": {
        "id": "D1I4San0dpH6",
        "colab_type": "code",
        "colab": {}
      },
      "source": [
        "disciplinasECT.to_csv(r\"disciplinasECT201520191.csv\")"
      ],
      "execution_count": 0,
      "outputs": []
    }
  ]
}